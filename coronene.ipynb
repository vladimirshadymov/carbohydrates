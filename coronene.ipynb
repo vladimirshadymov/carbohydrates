{
 "cells": [
  {
   "cell_type": "code",
   "execution_count": 69,
   "metadata": {},
   "outputs": [],
   "source": [
    "from ase.io import read\n",
    "import ase\n",
    "from ase.visualize import view\n",
    "import numpy as np\n",
    "import nglview as nv\n",
    "import networkx as nx\n",
    "%matplotlib inline"
   ]
  },
  {
   "cell_type": "code",
   "execution_count": 70,
   "metadata": {},
   "outputs": [],
   "source": [
    "Atoms = ase.io.read('first_trials/coronene.990000.cfg')\n",
    "Atomse = ase.io.read('first_trials/coronene.10000.cfg')\n",
    "Atomsm = ase.io.read('first_trials/coronene.500000.cfg')"
   ]
  },
  {
   "cell_type": "code",
   "execution_count": 71,
   "metadata": {},
   "outputs": [
    {
     "data": {
      "text/plain": [
       "(576, 576)"
      ]
     },
     "execution_count": 71,
     "metadata": {},
     "output_type": "execute_result"
    }
   ],
   "source": [
    "arr = Atoms.get_positions()\n",
    "arr = np.broadcast_to(arr, (arr.shape[0], arr.shape[0], arr.shape[1]))\n",
    "arr = np.sum(arr**2, axis=2)**0.5\n",
    "arr.shape"
   ]
  },
  {
   "cell_type": "code",
   "execution_count": 72,
   "metadata": {},
   "outputs": [],
   "source": [
    "def get_bond_graph(atoms, bond_length=1.85):\n",
    "    coords = atoms.get_positions()\n",
    "    coords = np.broadcast_to(coords, (coords.shape[0], coords.shape[0], coords.shape[1]))\n",
    "    distances = coords - np.transpose(coords, (1, 0, 2))\n",
    "    del coords\n",
    "    box_params = np.broadcast_to(atoms.get_cell().lengths(), distances.shape)\n",
    "    distances = np.minimum(np.abs(distances), np.abs(box_params - np.abs(distances)))\n",
    "    del box_params\n",
    "    distances = np.sum(distances**2, axis=len(distances.shape)-1)**0.5\n",
    "    adj_matrix = distances\n",
    "    del distances\n",
    "    adj_matrix[adj_matrix > bond_length] = 0\n",
    "    bond_graph = nx.from_numpy_matrix(adj_matrix)\n",
    "    \n",
    "    return bond_graph    "
   ]
  },
  {
   "cell_type": "code",
   "execution_count": 73,
   "metadata": {},
   "outputs": [
    {
     "data": {
      "application/vnd.jupyter.widget-view+json": {
       "model_id": "339e1bc95c874641854145c1ea347f50",
       "version_major": 2,
       "version_minor": 0
      },
      "text/plain": [
       "HBox(children=(NGLWidget(), VBox(children=(Dropdown(description='Show', options=('All', 'C', 'H'), value='All'…"
      ]
     },
     "metadata": {},
     "output_type": "display_data"
    }
   ],
   "source": [
    "view(Atomse, viewer='ngl')"
   ]
  },
  {
   "cell_type": "code",
   "execution_count": 87,
   "metadata": {
    "scrolled": false
   },
   "outputs": [
    {
     "data": {
      "text/plain": [
       "16"
      ]
     },
     "execution_count": 87,
     "metadata": {},
     "output_type": "execute_result"
    }
   ],
   "source": [
    "nx.algorithms.components.number_connected_components(bond_graph)"
   ]
  },
  {
   "cell_type": "code",
   "execution_count": null,
   "metadata": {},
   "outputs": [],
   "source": []
  },
  {
   "cell_type": "code",
   "execution_count": 85,
   "metadata": {},
   "outputs": [
    {
     "name": "stderr",
     "output_type": "stream",
     "text": [
      "/home/vladimir/miniconda3/envs/carbon/lib/python3.6/site-packages/networkx/drawing/layout.py:923: FutureWarning: arrays to stack must be passed as a \"sequence\" type such as list or tuple. Support for non-sequence iterables such as generators is deprecated as of NumPy 1.16 and will raise an error in the future.\n",
      "  pos = np.row_stack((pos[x] for x in node_list))\n"
     ]
    },
    {
     "data": {
      "image/png": "[encoded data removed]",
      "text/plain": [
       "<Figure size 432x288 with 1 Axes>"
      ]
     },
     "metadata": {},
     "output_type": "display_data"
    }
   ],
   "source": []
  },
  {
   "cell_type": "code",
   "execution_count": null,
   "metadata": {},
   "outputs": [],
   "source": [
    "def in_cube(x0,y0,z0,x,y,z,bond_len):\n",
    "        return True"
   ]
  },
  {
   "cell_type": "code",
   "execution_count": null,
   "metadata": {},
   "outputs": [],
   "source": [
    "hyb = []\n",
    "for i in range(len(Atoms.get_atomic_numbers())):\n",
    "    if Atoms.get_atomic_numbers()[i] == 6:\n",
    "        count = 0\n",
    "        for j in range(len(Atoms.get_atomic_numbers())):\n",
    "               x0 = Atoms.get_positions()[i][0]\n",
    "               y0 = Atoms.get_positions()[i][1]\n",
    "               z0 = Atoms.get_positions()[i][2]\n",
    "               x = Atoms.get_positions()[j][0]\n",
    "               y = Atoms.get_positions()[j][1]\n",
    "               z = Atoms.get_positions()[j][2]\n",
    "               if in_cube(x0,y0,z0,x,y,z,1.8) == True:\n",
    "                   r = np.sqrt((x-x0)**2 + (y-y0)**2 + (z-z0)**2)\n",
    "                   if r<=1.8:\n",
    "                       count+=1\n",
    "            \n",
    "        hyb.append([i,count-1])\n",
    "    "
   ]
  },
  {
   "cell_type": "code",
   "execution_count": null,
   "metadata": {},
   "outputs": [],
   "source": [
    "def return_hybridisation(Atoms):\n",
    "    Dist = Atoms.get_all_distances(mic=True)\n",
    "    hybr = []\n",
    "    for i in range(len(Atoms.get_atomic_numbers())):\n",
    "        if Atoms.get_atomic_numbers()[i] == 6:\n",
    "            count = 0\n",
    "            for j in range(len(Dist[i])):\n",
    "                if Dist[i][j] < 1.8:\n",
    "                    count += 1\n",
    "            hybr.append([i,count-1])\n",
    "    for a in range(len(hybr)):\n",
    "        if hybr[a][1] == 0:\n",
    "            hybr[a][1] = 'no_hybr'\n",
    "        elif hybr[a][1] == 1:\n",
    "            hybr[a][1] = 'no_hybr'\n",
    "        elif hybr[a][1] == 2:\n",
    "            hybr[a][1] = 'sp'\n",
    "        elif hybr[a][1] == 3:\n",
    "            hybr[a][1] = 'sp2'\n",
    "        elif hybr[a][1] ==  4:\n",
    "            hybr[a][1] = 'sp3'\n",
    "        else: \n",
    "            hybr[a][1] = '???'\n",
    "    return hybr\n",
    "    "
   ]
  },
  {
   "cell_type": "code",
   "execution_count": null,
   "metadata": {
    "scrolled": true
   },
   "outputs": [],
   "source": [
    "early = return_hybridisation(Atomse)\n",
    "mid = return_hybridisation(Atoms)\n",
    "late = return_hybridisation(Atomsl)"
   ]
  },
  {
   "cell_type": "code",
   "execution_count": null,
   "metadata": {},
   "outputs": [],
   "source": [
    "early"
   ]
  },
  {
   "cell_type": "code",
   "execution_count": null,
   "metadata": {},
   "outputs": [],
   "source": []
  }
 ],
 "metadata": {
  "kernelspec": {
   "display_name": "Python 3",
   "language": "python",
   "name": "python3"
  },
  "language_info": {
   "codemirror_mode": {
    "name": "ipython",
    "version": 3
   },
   "file_extension": ".py",
   "mimetype": "text/x-python",
   "name": "python",
   "nbconvert_exporter": "python",
   "pygments_lexer": "ipython3",
   "version": "3.6.9"
  }
 },
 "nbformat": 4,
 "nbformat_minor": 2
}
