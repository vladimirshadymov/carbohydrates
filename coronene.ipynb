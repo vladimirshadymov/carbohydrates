{
 "cells": [
  {
   "cell_type": "code",
   "execution_count": 1,
   "metadata": {},
   "outputs": [],
   "source": [
    "from ase.visualize import view\n",
    "%matplotlib inline"
   ]
  },
  {
   "cell_type": "code",
   "execution_count": 2,
   "metadata": {},
   "outputs": [],
   "source": [
    "Atoms = ase.io.read('first_trials/coronene.990000.cfg')\n",
    "Atomse = ase.io.read('first_trials/coronene.10000.cfg')\n",
    "Atomsm = ase.io.read('first_trials/coronene.500000.cfg')"
   ]
  },
  {
   "cell_type": "code",
   "execution_count": 3,
   "metadata": {},
   "outputs": [
    {
     "data": {
      "text/plain": [
       "(576, 576)"
      ]
     },
     "execution_count": 3,
     "metadata": {},
     "output_type": "execute_result"
    }
   ],
   "source": [
    "arr = Atoms.get_positions()\n",
    "arr = np.broadcast_to(arr, (arr.shape[0], arr.shape[0], arr.shape[1]))\n",
    "arr = np.sum(arr**2, axis=2)**0.5\n",
    "arr.shape"
   ]
  },
  {
   "cell_type": "code",
   "execution_count": 4,
   "metadata": {},
   "outputs": [],
   "source": [
    "def get_bond_graph(atoms, bond_length=1.85):\n",
    "    coords = atoms.get_positions()\n",
    "    coords = np.broadcast_to(coords, (coords.shape[0], coords.shape[0], coords.shape[1]))\n",
    "    distances = coords - np.transpose(coords, (1, 0, 2))\n",
    "    del coords\n",
    "    box_params = np.broadcast_to(atoms.get_cell().lengths(), distances.shape)\n",
    "    distances = np.minimum(np.abs(distances), np.abs(box_params - np.abs(distances)))\n",
    "    del box_params\n",
    "    distances = np.sum(distances**2, axis=len(distances.shape)-1)**0.5\n",
    "    adj_matrix = distances\n",
    "    del distances\n",
    "    adj_matrix[adj_matrix > bond_length] = 0\n",
    "    bond_graph = nx.from_numpy_matrix(adj_matrix)\n",
    "    \n",
    "    return bond_graph    "
   ]
  },
  {
   "cell_type": "code",
   "execution_count": 5,
   "metadata": {},
   "outputs": [
    {
     "data": {
      "application/vnd.jupyter.widget-view+json": {
       "model_id": "f8848c05671c472294c50acdae4a7976",
       "version_major": 2,
       "version_minor": 0
      },
      "text/plain": [
       "HBox(children=(NGLWidget(), VBox(children=(Dropdown(description='Show', options=('All', 'C', 'H'), value='All'…"
      ]
     },
     "metadata": {},
     "output_type": "display_data"
    }
   ],
   "source": [
    "view(Atomse, viewer='ngl')"
   ]
  },
  {
   "cell_type": "code",
   "execution_count": 6,
   "metadata": {},
   "outputs": [],
   "source": [
    "bond_graph = get_bond_graph(Atoms)"
   ]
  },
  {
   "cell_type": "code",
   "execution_count": 7,
   "metadata": {
    "scrolled": false
   },
   "outputs": [
    {
     "data": {
      "text/plain": [
       "35"
      ]
     },
     "execution_count": 7,
     "metadata": {},
     "output_type": "execute_result"
    }
   ],
   "source": [
    "nx.algorithms.components.number_connected_components(bond_graph)"
   ]
  },
  {
   "cell_type": "code",
   "execution_count": 8,
   "metadata": {},
   "outputs": [
    {
     "data": {
      "text/plain": [
       "384"
      ]
     },
     "execution_count": 8,
     "metadata": {},
     "output_type": "execute_result"
    }
   ],
   "source": [
    "np.count_nonzero(Atoms.get_atomic_numbers()==6)"
   ]
  },
  {
   "cell_type": "code",
   "execution_count": 15,
   "metadata": {},
   "outputs": [],
   "source": [
    "def get_atom_idxs(atoms, atom_type):\n",
    "    return np.nonzero(atoms.get_atomic_numbers()==atom_type)"
   ]
  },
  {
   "cell_type": "code",
   "execution_count": 16,
   "metadata": {},
   "outputs": [
    {
     "data": {
      "text/plain": [
       "(array([  1,   2,   4,   6,   7,   8,   9,  11,  12,  13,  16,  17,  18,\n",
       "         19,  20,  21,  22,  23,  24,  25,  28,  30,  31,  33,  35,  36,\n",
       "         37,  39,  41,  42,  44,  46,  47,  51,  52,  53,  57,  58,  59,\n",
       "         60,  61,  62,  63,  64,  65,  67,  69,  74,  75,  78,  79,  80,\n",
       "         81,  82,  83,  84,  85,  86,  87,  89,  90,  93,  94,  96,  98,\n",
       "         99, 100, 101, 102, 103, 104, 106, 107, 108, 110, 111, 116, 117,\n",
       "        118, 119, 122, 123, 124, 125, 126, 128, 129, 130, 133, 135, 136,\n",
       "        137, 138, 139, 140, 141, 142, 143, 152, 153, 154, 155, 156, 157,\n",
       "        158, 160, 161, 162, 164, 166, 167, 168, 169, 172, 173, 178, 179,\n",
       "        180, 184, 185, 187, 188, 197, 198, 199, 201, 202, 204, 207, 210,\n",
       "        211, 214, 215, 216, 217, 220, 223, 224, 225, 228, 229, 230, 231,\n",
       "        232, 233, 234, 235, 236, 238, 239, 240, 241, 242, 243, 245, 252,\n",
       "        253, 254, 255, 256, 257, 258, 259, 260, 263, 264, 265, 266, 267,\n",
       "        268, 269, 273, 275, 276, 279, 282, 283, 284, 287, 288, 289, 290,\n",
       "        291, 292, 293, 294, 297, 298, 300, 301, 302, 303, 304, 306, 309,\n",
       "        310, 312, 313, 314, 315, 316, 317, 318, 319, 320, 321, 322, 323,\n",
       "        324, 325, 326, 327, 328, 332, 333, 334, 336, 338, 339, 341, 342,\n",
       "        343, 344, 345, 346, 347, 348, 349, 351, 352, 353, 354, 356, 358,\n",
       "        359, 360, 361, 363, 364, 365, 367, 368, 369, 372, 373, 374, 381,\n",
       "        382, 384, 385, 386, 387, 389, 390, 392, 393, 394, 395, 396, 398,\n",
       "        399, 400, 402, 405, 406, 410, 411, 413, 414, 416, 417, 418, 419,\n",
       "        420, 422, 423, 424, 425, 427, 429, 430, 432, 433, 434, 435, 436,\n",
       "        437, 438, 439, 441, 442, 444, 445, 447, 448, 449, 452, 456, 458,\n",
       "        459, 460, 461, 462, 463, 465, 467, 469, 470, 471, 473, 475, 476,\n",
       "        478, 481, 482, 483, 484, 486, 487, 488, 489, 490, 491, 492, 494,\n",
       "        495, 497, 498, 499, 500, 503, 505, 507, 509, 510, 511, 512, 513,\n",
       "        515, 516, 517, 518, 519, 522, 523, 524, 525, 526, 529, 530, 531,\n",
       "        532, 533, 535, 536, 537, 538, 539, 540, 541, 542, 543, 544, 545,\n",
       "        547, 548, 549, 552, 553, 554, 555, 557, 558, 559, 561, 562, 564,\n",
       "        565, 567, 568, 569, 571, 572, 575]),)"
      ]
     },
     "execution_count": 16,
     "metadata": {},
     "output_type": "execute_result"
    }
   ],
   "source": [
    "get_atom_idxs(Atoms, atom_type=6)"
   ]
  },
  {
   "cell_type": "code",
   "execution_count": null,
   "metadata": {},
   "outputs": [],
   "source": [
    "def in_cube(x0,y0,z0,x,y,z,bond_len):\n",
    "        return True"
   ]
  },
  {
   "cell_type": "code",
   "execution_count": null,
   "metadata": {},
   "outputs": [],
   "source": [
    "hyb = []\n",
    "for i in range(len(Atoms.get_atomic_numbers())):\n",
    "    if Atoms.get_atomic_numbers()[i] == 6:\n",
    "        count = 0\n",
    "        for j in range(len(Atoms.get_atomic_numbers())):\n",
    "               x0 = Atoms.get_positions()[i][0]\n",
    "               y0 = Atoms.get_positions()[i][1]\n",
    "               z0 = Atoms.get_positions()[i][2]\n",
    "               x = Atoms.get_positions()[j][0]\n",
    "               y = Atoms.get_positions()[j][1]\n",
    "               z = Atoms.get_positions()[j][2]\n",
    "               if in_cube(x0,y0,z0,x,y,z,1.8) == True:\n",
    "                   r = np.sqrt((x-x0)**2 + (y-y0)**2 + (z-z0)**2)\n",
    "                   if r<=1.8:\n",
    "                       count+=1\n",
    "            \n",
    "        hyb.append([i,count-1])\n",
    "    "
   ]
  },
  {
   "cell_type": "code",
   "execution_count": null,
   "metadata": {},
   "outputs": [],
   "source": [
    "def return_hybridisation(Atoms):\n",
    "    Dist = Atoms.get_all_distances(mic=True)\n",
    "    hybr = []\n",
    "    for i in range(len(Atoms.get_atomic_numbers())):\n",
    "        if Atoms.get_atomic_numbers()[i] == 6:\n",
    "            count = 0\n",
    "            for j in range(len(Dist[i])):\n",
    "                if Dist[i][j] < 1.8:\n",
    "                    count += 1\n",
    "            hybr.append([i,count-1])\n",
    "    for a in range(len(hybr)):\n",
    "        if hybr[a][1] == 0:\n",
    "            hybr[a][1] = 'no_hybr'\n",
    "        elif hybr[a][1] == 1:\n",
    "            hybr[a][1] = 'no_hybr'\n",
    "        elif hybr[a][1] == 2:\n",
    "            hybr[a][1] = 'sp'\n",
    "        elif hybr[a][1] == 3:\n",
    "            hybr[a][1] = 'sp2'\n",
    "        elif hybr[a][1] ==  4:\n",
    "            hybr[a][1] = 'sp3'\n",
    "        else: \n",
    "            hybr[a][1] = '???'\n",
    "    return hybr\n",
    "    "
   ]
  },
  {
   "cell_type": "code",
   "execution_count": null,
   "metadata": {
    "scrolled": true
   },
   "outputs": [],
   "source": [
    "early = return_hybridisation(Atomse)\n",
    "mid = return_hybridisation(Atoms)\n",
    "late = return_hybridisation(Atomsl)"
   ]
  },
  {
   "cell_type": "code",
   "execution_count": null,
   "metadata": {},
   "outputs": [],
   "source": [
    "early"
   ]
  },
  {
   "cell_type": "code",
   "execution_count": null,
   "metadata": {},
   "outputs": [],
   "source": []
  }
 ],
 "metadata": {
  "kernelspec": {
   "display_name": "Python 3",
   "language": "python",
   "name": "python3"
  },
  "language_info": {
   "codemirror_mode": {
    "name": "ipython",
    "version": 3
   },
   "file_extension": ".py",
   "mimetype": "text/x-python",
   "name": "python",
   "nbconvert_exporter": "python",
   "pygments_lexer": "ipython3",
   "version": "3.6.9"
  }
 },
 "nbformat": 4,
 "nbformat_minor": 2
}
