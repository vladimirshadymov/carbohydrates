{
 "cells": [
  {
   "cell_type": "code",
   "execution_count": 74,
   "metadata": {},
   "outputs": [],
   "source": [
    "import ase\n",
    "from utils import *"
   ]
  },
  {
   "cell_type": "code",
   "execution_count": 17,
   "metadata": {},
   "outputs": [],
   "source": [
    "Atomsl = ase.io.read('first_trials/coronene.990000.cfg')\n",
    "Atomse = ase.io.read('first_trials/coronene.10000.cfg')\n",
    "Atomsm = ase.io.read('first_trials/coronene.500000.cfg')"
   ]
  },
  {
   "cell_type": "code",
   "execution_count": 75,
   "metadata": {},
   "outputs": [],
   "source": [
    "sp2 = []  # number of carbon with sp2-hybr; each step\n",
    "carbon_cycles = []  # number of carbon cycles with sizes 4,5,6,7; each step\n",
    "cluster_num = []  # number of molecules with size greater than half of coronene; each step"
   ]
  },
  {
   "cell_type": "code",
   "execution_count": null,
   "metadata": {},
   "outputs": [],
   "source": [
    "for step in range(0, 11140000, 10000):\n",
    "    atoms = ase.io.read('data/first_trials/coronene.%d.cfg' % d)\n",
    "    _, sp2_atoms, _, _ = get_carbon_hybr(atoms)\n",
    "    sp2.append(sp2_atoms.shape[0])\n",
    "    cycle_num = 0\n",
    "    for cycle_length in range(4,8):\n",
    "        cycle_num += len(get_carbon_cycles(atoms, cycle_length))\n",
    "    carbon_cycles.append(cycle_num)\n",
    "    cluster.append(get_clusters_num(atoms, ))"
   ]
  },
  {
   "cell_type": "code",
   "execution_count": null,
   "metadata": {},
   "outputs": [],
   "source": []
  },
  {
   "cell_type": "code",
   "execution_count": null,
   "metadata": {},
   "outputs": [],
   "source": []
  },
  {
   "cell_type": "code",
   "execution_count": null,
   "metadata": {},
   "outputs": [],
   "source": []
  },
  {
   "cell_type": "code",
   "execution_count": null,
   "metadata": {},
   "outputs": [],
   "source": []
  },
  {
   "cell_type": "code",
   "execution_count": null,
   "metadata": {},
   "outputs": [],
   "source": []
  },
  {
   "cell_type": "code",
   "execution_count": null,
   "metadata": {},
   "outputs": [],
   "source": []
  },
  {
   "cell_type": "code",
   "execution_count": null,
   "metadata": {},
   "outputs": [],
   "source": []
  },
  {
   "cell_type": "code",
   "execution_count": null,
   "metadata": {},
   "outputs": [],
   "source": []
  },
  {
   "cell_type": "code",
   "execution_count": null,
   "metadata": {},
   "outputs": [],
   "source": []
  },
  {
   "cell_type": "code",
   "execution_count": null,
   "metadata": {},
   "outputs": [],
   "source": []
  },
  {
   "cell_type": "code",
   "execution_count": null,
   "metadata": {},
   "outputs": [],
   "source": []
  },
  {
   "cell_type": "code",
   "execution_count": null,
   "metadata": {},
   "outputs": [],
   "source": []
  },
  {
   "cell_type": "code",
   "execution_count": null,
   "metadata": {},
   "outputs": [],
   "source": []
  },
  {
   "cell_type": "code",
   "execution_count": null,
   "metadata": {},
   "outputs": [],
   "source": []
  },
  {
   "cell_type": "code",
   "execution_count": null,
   "metadata": {},
   "outputs": [],
   "source": []
  },
  {
   "cell_type": "code",
   "execution_count": null,
   "metadata": {},
   "outputs": [],
   "source": []
  },
  {
   "cell_type": "code",
   "execution_count": 18,
   "metadata": {},
   "outputs": [
    {
     "data": {
      "text/plain": [
       "(576, 576)"
      ]
     },
     "execution_count": 18,
     "metadata": {},
     "output_type": "execute_result"
    }
   ],
   "source": [
    "arr = Atomsl.get_positions()\n",
    "arr = np.broadcast_to(arr, (arr.shape[0], arr.shape[0], arr.shape[1]))\n",
    "arr = np.sum(arr**2, axis=2)**0.5\n",
    "arr.shape"
   ]
  },
  {
   "cell_type": "code",
   "execution_count": 19,
   "metadata": {},
   "outputs": [],
   "source": [
    "def get_bond_graph(atoms, bond_length=1.85):\n",
    "    coords = atoms.get_positions()\n",
    "    coords = np.broadcast_to(coords, (coords.shape[0], coords.shape[0], coords.shape[1]))\n",
    "    distances = coords - np.transpose(coords, (1, 0, 2))\n",
    "    del coords\n",
    "    box_params = np.broadcast_to(atoms.get_cell().lengths(), distances.shape)\n",
    "    distances = np.minimum(np.abs(distances), np.abs(box_params - np.abs(distances)))\n",
    "    del box_params\n",
    "    distances = np.sum(distances**2, axis=len(distances.shape)-1)**0.5\n",
    "    adj_matrix = distances\n",
    "    del distances\n",
    "    adj_matrix[adj_matrix > bond_length] = 0\n",
    "    bond_graph = nx.from_numpy_matrix(adj_matrix)\n",
    "    \n",
    "    return bond_graph    "
   ]
  },
  {
   "cell_type": "code",
   "execution_count": 20,
   "metadata": {},
   "outputs": [
    {
     "data": {
      "application/vnd.jupyter.widget-view+json": {
       "model_id": "cff81fd7a1ea4a0eb0e9a2133664bc11",
       "version_major": 2,
       "version_minor": 0
      },
      "text/plain": [
       "HBox(children=(NGLWidget(), VBox(children=(Dropdown(description='Show', options=('All', 'H', 'C'), value='All'…"
      ]
     },
     "metadata": {},
     "output_type": "display_data"
    }
   ],
   "source": [
    "view(Atomse, viewer='ngl')"
   ]
  },
  {
   "cell_type": "code",
   "execution_count": 21,
   "metadata": {},
   "outputs": [
    {
     "ename": "NameError",
     "evalue": "name 'Atoms' is not defined",
     "output_type": "error",
     "traceback": [
      "\u001b[0;31m---------------------------------------------------------------------------\u001b[0m",
      "\u001b[0;31mNameError\u001b[0m                                 Traceback (most recent call last)",
      "\u001b[0;32m<ipython-input-21-9feedc7070ca>\u001b[0m in \u001b[0;36m<module>\u001b[0;34m\u001b[0m\n\u001b[0;32m----> 1\u001b[0;31m \u001b[0mbond_graph\u001b[0m \u001b[0;34m=\u001b[0m \u001b[0mget_bond_graph\u001b[0m\u001b[0;34m(\u001b[0m\u001b[0mAtoms\u001b[0m\u001b[0;34m)\u001b[0m\u001b[0;34m\u001b[0m\u001b[0;34m\u001b[0m\u001b[0m\n\u001b[0m",
      "\u001b[0;31mNameError\u001b[0m: name 'Atoms' is not defined"
     ]
    }
   ],
   "source": [
    "bond_graph = get_bond_graph(Atoms)"
   ]
  },
  {
   "cell_type": "code",
   "execution_count": null,
   "metadata": {
    "scrolled": false
   },
   "outputs": [],
   "source": [
    "nx.algorithms.components.number_connected_components(bond_graph)"
   ]
  },
  {
   "cell_type": "code",
   "execution_count": 22,
   "metadata": {},
   "outputs": [
    {
     "ename": "NameError",
     "evalue": "name 'Atoms' is not defined",
     "output_type": "error",
     "traceback": [
      "\u001b[0;31m---------------------------------------------------------------------------\u001b[0m",
      "\u001b[0;31mNameError\u001b[0m                                 Traceback (most recent call last)",
      "\u001b[0;32m<ipython-input-22-526904301616>\u001b[0m in \u001b[0;36m<module>\u001b[0;34m\u001b[0m\n\u001b[0;32m----> 1\u001b[0;31m \u001b[0mnp\u001b[0m\u001b[0;34m.\u001b[0m\u001b[0mcount_nonzero\u001b[0m\u001b[0;34m(\u001b[0m\u001b[0mAtoms\u001b[0m\u001b[0;34m.\u001b[0m\u001b[0mget_atomic_numbers\u001b[0m\u001b[0;34m(\u001b[0m\u001b[0;34m)\u001b[0m\u001b[0;34m==\u001b[0m\u001b[0;36m6\u001b[0m\u001b[0;34m)\u001b[0m\u001b[0;34m\u001b[0m\u001b[0;34m\u001b[0m\u001b[0m\n\u001b[0m",
      "\u001b[0;31mNameError\u001b[0m: name 'Atoms' is not defined"
     ]
    }
   ],
   "source": [
    "np.count_nonzero(Atoms.get_atomic_numbers()==6)"
   ]
  },
  {
   "cell_type": "code",
   "execution_count": 23,
   "metadata": {},
   "outputs": [],
   "source": [
    "def get_atom_idxs(atoms, atom_type):\n",
    "    return np.nonzero(atoms.get_atomic_numbers()==atom_type)[0]"
   ]
  },
  {
   "cell_type": "code",
   "execution_count": 24,
   "metadata": {},
   "outputs": [
    {
     "ename": "NameError",
     "evalue": "name 'Atoms' is not defined",
     "output_type": "error",
     "traceback": [
      "\u001b[0;31m---------------------------------------------------------------------------\u001b[0m",
      "\u001b[0;31mNameError\u001b[0m                                 Traceback (most recent call last)",
      "\u001b[0;32m<ipython-input-24-045c310e3930>\u001b[0m in \u001b[0;36m<module>\u001b[0;34m\u001b[0m\n\u001b[0;32m----> 1\u001b[0;31m \u001b[0mget_atom_idxs\u001b[0m\u001b[0;34m(\u001b[0m\u001b[0mAtoms\u001b[0m\u001b[0;34m,\u001b[0m \u001b[0matom_type\u001b[0m\u001b[0;34m=\u001b[0m\u001b[0;36m6\u001b[0m\u001b[0;34m)\u001b[0m\u001b[0;34m\u001b[0m\u001b[0;34m\u001b[0m\u001b[0m\n\u001b[0m",
      "\u001b[0;31mNameError\u001b[0m: name 'Atoms' is not defined"
     ]
    }
   ],
   "source": [
    "get_atom_idxs(Atoms, atom_type=6)"
   ]
  },
  {
   "cell_type": "code",
   "execution_count": 25,
   "metadata": {},
   "outputs": [
    {
     "ename": "NameError",
     "evalue": "name 'Atoms' is not defined",
     "output_type": "error",
     "traceback": [
      "\u001b[0;31m---------------------------------------------------------------------------\u001b[0m",
      "\u001b[0;31mNameError\u001b[0m                                 Traceback (most recent call last)",
      "\u001b[0;32m<ipython-input-25-2e589a6d4a2c>\u001b[0m in \u001b[0;36m<module>\u001b[0;34m\u001b[0m\n\u001b[0;32m----> 1\u001b[0;31m \u001b[0mbond_graph\u001b[0m \u001b[0;34m=\u001b[0m \u001b[0mget_bond_graph\u001b[0m\u001b[0;34m(\u001b[0m\u001b[0mAtoms\u001b[0m\u001b[0;34m)\u001b[0m\u001b[0;34m\u001b[0m\u001b[0;34m\u001b[0m\u001b[0m\n\u001b[0m\u001b[1;32m      2\u001b[0m \u001b[0mlen\u001b[0m\u001b[0;34m(\u001b[0m\u001b[0mlist\u001b[0m\u001b[0;34m(\u001b[0m\u001b[0mbond_graph\u001b[0m\u001b[0;34m.\u001b[0m\u001b[0mneighbors\u001b[0m\u001b[0;34m(\u001b[0m\u001b[0;36m2\u001b[0m\u001b[0;34m)\u001b[0m\u001b[0;34m)\u001b[0m\u001b[0;34m)\u001b[0m\u001b[0;34m\u001b[0m\u001b[0;34m\u001b[0m\u001b[0m\n\u001b[1;32m      3\u001b[0m \u001b[0mget_atom_idxs\u001b[0m\u001b[0;34m(\u001b[0m\u001b[0mAtoms\u001b[0m\u001b[0;34m,\u001b[0m \u001b[0matom_type\u001b[0m\u001b[0;34m=\u001b[0m\u001b[0;36m6\u001b[0m\u001b[0;34m)\u001b[0m\u001b[0;34m\u001b[0m\u001b[0;34m\u001b[0m\u001b[0m\n",
      "\u001b[0;31mNameError\u001b[0m: name 'Atoms' is not defined"
     ]
    }
   ],
   "source": [
    "bond_graph = get_bond_graph(Atoms)\n",
    "len(list(bond_graph.neighbors(2)))\n",
    "get_atom_idxs(Atoms, atom_type=6)"
   ]
  },
  {
   "cell_type": "code",
   "execution_count": 26,
   "metadata": {},
   "outputs": [],
   "source": [
    "def calc_carb_hybr(atoms):\n",
    "    bond_graph = get_bond_graph(atoms)\n",
    "    carbon_idxs = get_atom_idxs(atoms, atom_type=6)\n",
    "    print(type(carbon_idxs))\n",
    "    sp1 = []\n",
    "    sp2 = []\n",
    "    sp3 = []\n",
    "    others = []\n",
    "    for carbon in carbon_idxs:\n",
    "        if len(list(bond_graph.neighbors(carbon))) == 2: sp1.append(carbon)\n",
    "        elif len(list(bond_graph.neighbors(carbon))) == 3: sp2.append(carbon)\n",
    "        elif len(list(bond_graph.neighbors(carbon))) == 4: sp3.append(carbon)\n",
    "        else: others.append(carbon)\n",
    "    \n",
    "    sp1 = np.array(sp1)\n",
    "    sp2 = np.array(sp2)\n",
    "    sp3 = np.array(sp3)\n",
    "    others = np.array(others)\n",
    "    \n",
    "    return (sp1, sp2, sp3, others)"
   ]
  },
  {
   "cell_type": "code",
   "execution_count": 27,
   "metadata": {},
   "outputs": [
    {
     "ename": "NameError",
     "evalue": "name 'nx' is not defined",
     "output_type": "error",
     "traceback": [
      "\u001b[0;31m---------------------------------------------------------------------------\u001b[0m",
      "\u001b[0;31mNameError\u001b[0m                                 Traceback (most recent call last)",
      "\u001b[0;32m<ipython-input-27-a38965a80a6f>\u001b[0m in \u001b[0;36m<module>\u001b[0;34m\u001b[0m\n\u001b[0;32m----> 1\u001b[0;31m \u001b[0mcalc_carb_hybr\u001b[0m\u001b[0;34m(\u001b[0m\u001b[0mAtomse\u001b[0m\u001b[0;34m)\u001b[0m\u001b[0;34m\u001b[0m\u001b[0;34m\u001b[0m\u001b[0m\n\u001b[0m",
      "\u001b[0;32m<ipython-input-26-522a716ccd61>\u001b[0m in \u001b[0;36mcalc_carb_hybr\u001b[0;34m(atoms)\u001b[0m\n\u001b[1;32m      1\u001b[0m \u001b[0;32mdef\u001b[0m \u001b[0mcalc_carb_hybr\u001b[0m\u001b[0;34m(\u001b[0m\u001b[0matoms\u001b[0m\u001b[0;34m)\u001b[0m\u001b[0;34m:\u001b[0m\u001b[0;34m\u001b[0m\u001b[0;34m\u001b[0m\u001b[0m\n\u001b[0;32m----> 2\u001b[0;31m     \u001b[0mbond_graph\u001b[0m \u001b[0;34m=\u001b[0m \u001b[0mget_bond_graph\u001b[0m\u001b[0;34m(\u001b[0m\u001b[0matoms\u001b[0m\u001b[0;34m)\u001b[0m\u001b[0;34m\u001b[0m\u001b[0;34m\u001b[0m\u001b[0m\n\u001b[0m\u001b[1;32m      3\u001b[0m     \u001b[0mcarbon_idxs\u001b[0m \u001b[0;34m=\u001b[0m \u001b[0mget_atom_idxs\u001b[0m\u001b[0;34m(\u001b[0m\u001b[0matoms\u001b[0m\u001b[0;34m,\u001b[0m \u001b[0matom_type\u001b[0m\u001b[0;34m=\u001b[0m\u001b[0;36m6\u001b[0m\u001b[0;34m)\u001b[0m\u001b[0;34m\u001b[0m\u001b[0;34m\u001b[0m\u001b[0m\n\u001b[1;32m      4\u001b[0m     \u001b[0mprint\u001b[0m\u001b[0;34m(\u001b[0m\u001b[0mtype\u001b[0m\u001b[0;34m(\u001b[0m\u001b[0mcarbon_idxs\u001b[0m\u001b[0;34m)\u001b[0m\u001b[0;34m)\u001b[0m\u001b[0;34m\u001b[0m\u001b[0;34m\u001b[0m\u001b[0m\n\u001b[1;32m      5\u001b[0m     \u001b[0msp1\u001b[0m \u001b[0;34m=\u001b[0m \u001b[0;34m[\u001b[0m\u001b[0;34m]\u001b[0m\u001b[0;34m\u001b[0m\u001b[0;34m\u001b[0m\u001b[0m\n",
      "\u001b[0;32m<ipython-input-19-c891b35c91e1>\u001b[0m in \u001b[0;36mget_bond_graph\u001b[0;34m(atoms, bond_length)\u001b[0m\n\u001b[1;32m     11\u001b[0m     \u001b[0;32mdel\u001b[0m \u001b[0mdistances\u001b[0m\u001b[0;34m\u001b[0m\u001b[0;34m\u001b[0m\u001b[0m\n\u001b[1;32m     12\u001b[0m     \u001b[0madj_matrix\u001b[0m\u001b[0;34m[\u001b[0m\u001b[0madj_matrix\u001b[0m \u001b[0;34m>\u001b[0m \u001b[0mbond_length\u001b[0m\u001b[0;34m]\u001b[0m \u001b[0;34m=\u001b[0m \u001b[0;36m0\u001b[0m\u001b[0;34m\u001b[0m\u001b[0;34m\u001b[0m\u001b[0m\n\u001b[0;32m---> 13\u001b[0;31m     \u001b[0mbond_graph\u001b[0m \u001b[0;34m=\u001b[0m \u001b[0mnx\u001b[0m\u001b[0;34m.\u001b[0m\u001b[0mfrom_numpy_matrix\u001b[0m\u001b[0;34m(\u001b[0m\u001b[0madj_matrix\u001b[0m\u001b[0;34m)\u001b[0m\u001b[0;34m\u001b[0m\u001b[0;34m\u001b[0m\u001b[0m\n\u001b[0m\u001b[1;32m     14\u001b[0m \u001b[0;34m\u001b[0m\u001b[0m\n\u001b[1;32m     15\u001b[0m     \u001b[0;32mreturn\u001b[0m \u001b[0mbond_graph\u001b[0m\u001b[0;34m\u001b[0m\u001b[0;34m\u001b[0m\u001b[0m\n",
      "\u001b[0;31mNameError\u001b[0m: name 'nx' is not defined"
     ]
    }
   ],
   "source": [
    "calc_carb_hybr(Atomse)"
   ]
  },
  {
   "cell_type": "code",
   "execution_count": 28,
   "metadata": {},
   "outputs": [
    {
     "ename": "NameError",
     "evalue": "name 'Atoms' is not defined",
     "output_type": "error",
     "traceback": [
      "\u001b[0;31m---------------------------------------------------------------------------\u001b[0m",
      "\u001b[0;31mNameError\u001b[0m                                 Traceback (most recent call last)",
      "\u001b[0;32m<ipython-input-28-cd4d461b6b3b>\u001b[0m in \u001b[0;36m<module>\u001b[0;34m\u001b[0m\n\u001b[1;32m      1\u001b[0m \u001b[0mhyb\u001b[0m \u001b[0;34m=\u001b[0m \u001b[0;34m[\u001b[0m\u001b[0;34m]\u001b[0m\u001b[0;34m\u001b[0m\u001b[0;34m\u001b[0m\u001b[0m\n\u001b[0;32m----> 2\u001b[0;31m \u001b[0;32mfor\u001b[0m \u001b[0mi\u001b[0m \u001b[0;32min\u001b[0m \u001b[0mrange\u001b[0m\u001b[0;34m(\u001b[0m\u001b[0mlen\u001b[0m\u001b[0;34m(\u001b[0m\u001b[0mAtoms\u001b[0m\u001b[0;34m.\u001b[0m\u001b[0mget_atomic_numbers\u001b[0m\u001b[0;34m(\u001b[0m\u001b[0;34m)\u001b[0m\u001b[0;34m)\u001b[0m\u001b[0;34m)\u001b[0m\u001b[0;34m:\u001b[0m\u001b[0;34m\u001b[0m\u001b[0;34m\u001b[0m\u001b[0m\n\u001b[0m\u001b[1;32m      3\u001b[0m     \u001b[0;32mif\u001b[0m \u001b[0mAtoms\u001b[0m\u001b[0;34m.\u001b[0m\u001b[0mget_atomic_numbers\u001b[0m\u001b[0;34m(\u001b[0m\u001b[0;34m)\u001b[0m\u001b[0;34m[\u001b[0m\u001b[0mi\u001b[0m\u001b[0;34m]\u001b[0m \u001b[0;34m==\u001b[0m \u001b[0;36m6\u001b[0m\u001b[0;34m:\u001b[0m\u001b[0;34m\u001b[0m\u001b[0;34m\u001b[0m\u001b[0m\n\u001b[1;32m      4\u001b[0m         \u001b[0mcount\u001b[0m \u001b[0;34m=\u001b[0m \u001b[0;36m0\u001b[0m\u001b[0;34m\u001b[0m\u001b[0;34m\u001b[0m\u001b[0m\n\u001b[1;32m      5\u001b[0m         \u001b[0;32mfor\u001b[0m \u001b[0mj\u001b[0m \u001b[0;32min\u001b[0m \u001b[0mrange\u001b[0m\u001b[0;34m(\u001b[0m\u001b[0mlen\u001b[0m\u001b[0;34m(\u001b[0m\u001b[0mAtoms\u001b[0m\u001b[0;34m.\u001b[0m\u001b[0mget_atomic_numbers\u001b[0m\u001b[0;34m(\u001b[0m\u001b[0;34m)\u001b[0m\u001b[0;34m)\u001b[0m\u001b[0;34m)\u001b[0m\u001b[0;34m:\u001b[0m\u001b[0;34m\u001b[0m\u001b[0;34m\u001b[0m\u001b[0m\n",
      "\u001b[0;31mNameError\u001b[0m: name 'Atoms' is not defined"
     ]
    }
   ],
   "source": [
    "hyb = []\n",
    "for i in range(len(Atoms.get_atomic_numbers())):\n",
    "    if Atoms.get_atomic_numbers()[i] == 6:\n",
    "        count = 0\n",
    "        for j in range(len(Atoms.get_atomic_numbers())):\n",
    "               x0 = Atoms.get_positions()[i][0]\n",
    "               y0 = Atoms.get_positions()[i][1]\n",
    "               z0 = Atoms.get_positions()[i][2]\n",
    "               x = Atoms.get_positions()[j][0]\n",
    "               y = Atoms.get_positions()[j][1]\n",
    "               z = Atoms.get_positions()[j][2]\n",
    "               if in_cube(x0,y0,z0,x,y,z,1.8) == True:\n",
    "                   r = np.sqrt((x-x0)**2 + (y-y0)**2 + (z-z0)**2)\n",
    "                   if r<=1.8:\n",
    "                       count+=1\n",
    "            \n",
    "        hyb.append([i,count-1])\n",
    "    "
   ]
  },
  {
   "cell_type": "code",
   "execution_count": 29,
   "metadata": {},
   "outputs": [],
   "source": [
    "def return_hybridisation(Atoms):\n",
    "    Dist = Atoms.get_all_distances(mic=True)\n",
    "    hybr = []\n",
    "    for i in range(len(Atoms.get_atomic_numbers())):\n",
    "        if Atoms.get_atomic_numbers()[i] == 6:\n",
    "            count = 0\n",
    "            for j in range(len(Dist[i])):\n",
    "                if Dist[i][j] < 1.8:\n",
    "                    count += 1\n",
    "            hybr.append([i,count-1])\n",
    "    for a in range(len(hybr)):\n",
    "        if hybr[a][1] == 0:\n",
    "            hybr[a][1] = 'no_hybr'\n",
    "        elif hybr[a][1] == 1:\n",
    "            hybr[a][1] = 'no_hybr'\n",
    "        elif hybr[a][1] == 2:\n",
    "            hybr[a][1] = 'sp'\n",
    "        elif hybr[a][1] == 3:\n",
    "            hybr[a][1] = 'sp2'\n",
    "        elif hybr[a][1] ==  4:\n",
    "            hybr[a][1] = 'sp3'\n",
    "        else: \n",
    "            hybr[a][1] = '???'\n",
    "    return hybr\n",
    "    "
   ]
  },
  {
   "cell_type": "code",
   "execution_count": 30,
   "metadata": {
    "scrolled": true
   },
   "outputs": [
    {
     "ename": "NameError",
     "evalue": "name 'Atoms' is not defined",
     "output_type": "error",
     "traceback": [
      "\u001b[0;31m---------------------------------------------------------------------------\u001b[0m",
      "\u001b[0;31mNameError\u001b[0m                                 Traceback (most recent call last)",
      "\u001b[0;32m<ipython-input-30-ba6edc26252a>\u001b[0m in \u001b[0;36m<module>\u001b[0;34m\u001b[0m\n\u001b[1;32m      1\u001b[0m \u001b[0mearly\u001b[0m \u001b[0;34m=\u001b[0m \u001b[0mreturn_hybridisation\u001b[0m\u001b[0;34m(\u001b[0m\u001b[0mAtomse\u001b[0m\u001b[0;34m)\u001b[0m\u001b[0;34m\u001b[0m\u001b[0;34m\u001b[0m\u001b[0m\n\u001b[0;32m----> 2\u001b[0;31m \u001b[0mmid\u001b[0m \u001b[0;34m=\u001b[0m \u001b[0mreturn_hybridisation\u001b[0m\u001b[0;34m(\u001b[0m\u001b[0mAtoms\u001b[0m\u001b[0;34m)\u001b[0m\u001b[0;34m\u001b[0m\u001b[0;34m\u001b[0m\u001b[0m\n\u001b[0m\u001b[1;32m      3\u001b[0m \u001b[0mlate\u001b[0m \u001b[0;34m=\u001b[0m \u001b[0mreturn_hybridisation\u001b[0m\u001b[0;34m(\u001b[0m\u001b[0mAtomsl\u001b[0m\u001b[0;34m)\u001b[0m\u001b[0;34m\u001b[0m\u001b[0;34m\u001b[0m\u001b[0m\n",
      "\u001b[0;31mNameError\u001b[0m: name 'Atoms' is not defined"
     ]
    }
   ],
   "source": [
    "early = return_hybridisation(Atomse)\n",
    "mid = return_hybridisation(Atoms)\n",
    "late = return_hybridisation(Atomsl)"
   ]
  },
  {
   "cell_type": "code",
   "execution_count": 31,
   "metadata": {},
   "outputs": [
    {
     "data": {
      "text/plain": [
       "[[1, 'sp2'],\n",
       " [3, 'sp2'],\n",
       " [5, 'sp2'],\n",
       " [6, 'sp2'],\n",
       " [7, 'sp2'],\n",
       " [8, 'sp2'],\n",
       " [9, 'sp2'],\n",
       " [11, 'sp2'],\n",
       " [12, 'sp2'],\n",
       " [14, 'sp2'],\n",
       " [15, 'sp2'],\n",
       " [16, 'sp2'],\n",
       " [17, 'sp2'],\n",
       " [18, 'sp2'],\n",
       " [19, 'sp2'],\n",
       " [20, 'sp2'],\n",
       " [22, 'sp2'],\n",
       " [25, 'sp2'],\n",
       " [27, 'sp2'],\n",
       " [28, 'sp2'],\n",
       " [29, 'sp2'],\n",
       " [30, 'sp2'],\n",
       " [31, 'sp2'],\n",
       " [32, 'sp2'],\n",
       " [34, 'sp2'],\n",
       " [36, 'sp2'],\n",
       " [37, 'sp2'],\n",
       " [38, 'sp2'],\n",
       " [40, 'sp2'],\n",
       " [44, 'sp2'],\n",
       " [45, 'sp2'],\n",
       " [46, 'sp2'],\n",
       " [48, 'sp2'],\n",
       " [49, 'sp2'],\n",
       " [51, 'sp2'],\n",
       " [52, 'sp2'],\n",
       " [53, 'sp2'],\n",
       " [56, 'sp2'],\n",
       " [57, 'sp2'],\n",
       " [58, 'sp2'],\n",
       " [59, 'sp2'],\n",
       " [60, 'sp2'],\n",
       " [61, 'sp2'],\n",
       " [62, 'sp2'],\n",
       " [63, 'sp2'],\n",
       " [64, 'sp2'],\n",
       " [65, 'sp2'],\n",
       " [67, 'sp2'],\n",
       " [69, 'sp2'],\n",
       " [70, 'sp2'],\n",
       " [71, 'sp2'],\n",
       " [73, 'sp2'],\n",
       " [74, 'sp2'],\n",
       " [76, 'sp2'],\n",
       " [78, 'sp2'],\n",
       " [79, 'sp2'],\n",
       " [85, 'sp2'],\n",
       " [86, 'sp2'],\n",
       " [87, 'sp2'],\n",
       " [88, 'sp2'],\n",
       " [89, 'sp2'],\n",
       " [93, 'sp2'],\n",
       " [94, 'sp2'],\n",
       " [97, 'sp2'],\n",
       " [98, 'sp2'],\n",
       " [99, 'sp2'],\n",
       " [100, 'sp2'],\n",
       " [101, 'sp2'],\n",
       " [102, 'sp2'],\n",
       " [103, 'sp2'],\n",
       " [104, 'sp2'],\n",
       " [105, 'sp2'],\n",
       " [106, 'sp2'],\n",
       " [107, 'sp2'],\n",
       " [108, 'sp2'],\n",
       " [110, 'sp2'],\n",
       " [114, 'sp2'],\n",
       " [115, 'sp2'],\n",
       " [116, 'sp2'],\n",
       " [119, 'sp2'],\n",
       " [120, 'sp2'],\n",
       " [122, 'sp2'],\n",
       " [124, 'sp2'],\n",
       " [125, 'sp2'],\n",
       " [126, 'sp2'],\n",
       " [127, 'sp2'],\n",
       " [128, 'sp2'],\n",
       " [131, 'sp2'],\n",
       " [132, 'sp2'],\n",
       " [133, 'sp2'],\n",
       " [134, 'sp2'],\n",
       " [135, 'sp2'],\n",
       " [136, 'sp2'],\n",
       " [139, 'sp2'],\n",
       " [140, 'sp2'],\n",
       " [142, 'sp2'],\n",
       " [143, 'sp2'],\n",
       " [144, 'sp2'],\n",
       " [145, 'sp2'],\n",
       " [146, 'sp2'],\n",
       " [147, 'sp2'],\n",
       " [149, 'sp2'],\n",
       " [150, 'sp2'],\n",
       " [151, 'sp2'],\n",
       " [152, 'sp2'],\n",
       " [159, 'sp2'],\n",
       " [160, 'sp2'],\n",
       " [163, 'sp2'],\n",
       " [165, 'sp2'],\n",
       " [166, 'sp2'],\n",
       " [167, 'sp2'],\n",
       " [168, 'sp2'],\n",
       " [169, 'sp2'],\n",
       " [170, 'sp2'],\n",
       " [171, 'sp2'],\n",
       " [172, 'sp2'],\n",
       " [173, 'sp2'],\n",
       " [174, 'sp2'],\n",
       " [175, 'sp2'],\n",
       " [178, 'sp2'],\n",
       " [179, 'sp2'],\n",
       " [180, 'sp2'],\n",
       " [181, 'sp2'],\n",
       " [183, 'sp2'],\n",
       " [184, 'sp2'],\n",
       " [185, 'sp2'],\n",
       " [186, 'sp2'],\n",
       " [187, 'sp2'],\n",
       " [188, 'sp2'],\n",
       " [189, 'sp2'],\n",
       " [190, 'sp2'],\n",
       " [191, 'sp2'],\n",
       " [195, 'sp2'],\n",
       " [197, 'sp2'],\n",
       " [198, 'sp2'],\n",
       " [200, 'sp2'],\n",
       " [201, 'sp2'],\n",
       " [202, 'sp2'],\n",
       " [203, 'sp2'],\n",
       " [204, 'sp2'],\n",
       " [205, 'sp2'],\n",
       " [206, 'sp2'],\n",
       " [208, 'sp2'],\n",
       " [209, 'sp2'],\n",
       " [210, 'sp2'],\n",
       " [213, 'sp2'],\n",
       " [214, 'sp2'],\n",
       " [216, 'sp2'],\n",
       " [218, 'sp2'],\n",
       " [219, 'sp2'],\n",
       " [220, 'sp2'],\n",
       " [222, 'sp2'],\n",
       " [224, 'sp2'],\n",
       " [225, 'sp2'],\n",
       " [227, 'sp2'],\n",
       " [229, 'sp2'],\n",
       " [231, 'sp2'],\n",
       " [232, 'sp2'],\n",
       " [234, 'sp2'],\n",
       " [236, 'sp2'],\n",
       " [237, 'sp2'],\n",
       " [238, 'sp2'],\n",
       " [239, 'sp2'],\n",
       " [244, 'sp2'],\n",
       " [245, 'sp2'],\n",
       " [249, 'sp2'],\n",
       " [250, 'sp2'],\n",
       " [251, 'sp2'],\n",
       " [252, 'sp2'],\n",
       " [253, 'sp2'],\n",
       " [254, 'sp2'],\n",
       " [255, 'sp2'],\n",
       " [256, 'sp2'],\n",
       " [257, 'sp2'],\n",
       " [258, 'sp2'],\n",
       " [259, 'sp2'],\n",
       " [260, 'sp2'],\n",
       " [261, 'sp2'],\n",
       " [262, 'sp2'],\n",
       " [263, 'sp2'],\n",
       " [264, 'sp2'],\n",
       " [265, 'sp2'],\n",
       " [267, 'sp2'],\n",
       " [271, 'sp2'],\n",
       " [272, 'sp2'],\n",
       " [274, 'sp2'],\n",
       " [276, 'sp2'],\n",
       " [280, 'sp3'],\n",
       " [282, 'sp2'],\n",
       " [284, 'sp2'],\n",
       " [286, 'sp2'],\n",
       " [289, 'sp2'],\n",
       " [290, 'sp2'],\n",
       " [291, 'sp2'],\n",
       " [292, 'sp2'],\n",
       " [293, 'sp2'],\n",
       " [295, 'sp2'],\n",
       " [297, 'sp2'],\n",
       " [299, 'sp2'],\n",
       " [300, 'sp2'],\n",
       " [301, 'sp2'],\n",
       " [302, 'sp2'],\n",
       " [303, 'sp2'],\n",
       " [304, 'sp2'],\n",
       " [305, 'sp2'],\n",
       " [306, 'sp2'],\n",
       " [308, 'sp2'],\n",
       " [309, 'sp2'],\n",
       " [310, 'sp3'],\n",
       " [311, 'sp2'],\n",
       " [312, 'sp2'],\n",
       " [313, 'sp2'],\n",
       " [314, 'sp2'],\n",
       " [317, 'sp2'],\n",
       " [319, 'sp2'],\n",
       " [320, 'sp2'],\n",
       " [323, 'sp2'],\n",
       " [326, 'sp2'],\n",
       " [327, 'sp2'],\n",
       " [331, 'sp2'],\n",
       " [332, 'sp2'],\n",
       " [333, 'sp2'],\n",
       " [337, 'sp2'],\n",
       " [338, 'sp2'],\n",
       " [339, 'sp2'],\n",
       " [340, 'sp2'],\n",
       " [341, 'sp2'],\n",
       " [342, 'sp2'],\n",
       " [343, 'sp2'],\n",
       " [344, 'sp2'],\n",
       " [345, 'sp2'],\n",
       " [346, 'sp2'],\n",
       " [348, 'sp2'],\n",
       " [349, 'sp2'],\n",
       " [350, 'sp2'],\n",
       " [354, 'sp2'],\n",
       " [355, 'sp2'],\n",
       " [357, 'sp2'],\n",
       " [358, 'sp2'],\n",
       " [359, 'sp2'],\n",
       " [361, 'sp2'],\n",
       " [362, 'sp2'],\n",
       " [363, 'sp2'],\n",
       " [364, 'sp2'],\n",
       " [365, 'sp2'],\n",
       " [366, 'sp2'],\n",
       " [368, 'sp3'],\n",
       " [369, 'sp2'],\n",
       " [370, 'sp2'],\n",
       " [371, 'sp2'],\n",
       " [372, 'sp2'],\n",
       " [373, 'sp2'],\n",
       " [374, 'sp2'],\n",
       " [375, 'sp2'],\n",
       " [376, 'sp2'],\n",
       " [377, 'sp2'],\n",
       " [381, 'sp2'],\n",
       " [384, 'sp2'],\n",
       " [385, 'sp2'],\n",
       " [391, 'sp2'],\n",
       " [393, 'sp2'],\n",
       " [394, 'sp2'],\n",
       " [397, 'sp2'],\n",
       " [398, 'sp2'],\n",
       " [399, 'sp2'],\n",
       " [400, 'sp2'],\n",
       " [402, 'sp2'],\n",
       " [404, 'sp2'],\n",
       " [406, 'sp2'],\n",
       " [407, 'sp2'],\n",
       " [408, 'sp2'],\n",
       " [409, 'sp2'],\n",
       " [410, 'sp2'],\n",
       " [411, 'sp2'],\n",
       " [412, 'sp2'],\n",
       " [413, 'sp2'],\n",
       " [414, 'sp2'],\n",
       " [415, 'sp2'],\n",
       " [416, 'sp2'],\n",
       " [417, 'sp2'],\n",
       " [422, 'sp2'],\n",
       " [423, 'sp2'],\n",
       " [424, 'sp2'],\n",
       " [425, 'sp2'],\n",
       " [426, 'sp2'],\n",
       " [427, 'sp2'],\n",
       " [429, 'sp2'],\n",
       " [431, 'sp2'],\n",
       " [433, 'sp2'],\n",
       " [434, 'sp2'],\n",
       " [436, 'sp2'],\n",
       " [437, 'sp2'],\n",
       " [438, 'sp2'],\n",
       " [440, 'sp2'],\n",
       " [441, 'sp2'],\n",
       " [442, 'sp2'],\n",
       " [444, 'sp2'],\n",
       " [446, 'sp2'],\n",
       " [448, 'sp2'],\n",
       " [449, 'sp2'],\n",
       " [450, 'sp2'],\n",
       " [451, 'sp2'],\n",
       " [452, 'sp2'],\n",
       " [453, 'sp2'],\n",
       " [455, 'sp2'],\n",
       " [456, 'sp2'],\n",
       " [457, 'sp2'],\n",
       " [458, 'sp2'],\n",
       " [460, 'sp2'],\n",
       " [462, 'sp2'],\n",
       " [465, 'sp2'],\n",
       " [466, 'sp2'],\n",
       " [472, 'sp2'],\n",
       " [473, 'sp2'],\n",
       " [474, 'sp2'],\n",
       " [476, 'sp2'],\n",
       " [477, 'sp2'],\n",
       " [478, 'sp2'],\n",
       " [479, 'sp2'],\n",
       " [480, 'sp2'],\n",
       " [481, 'sp2'],\n",
       " [482, 'sp2'],\n",
       " [483, 'sp2'],\n",
       " [484, 'sp2'],\n",
       " [485, 'sp3'],\n",
       " [486, 'sp2'],\n",
       " [487, 'sp2'],\n",
       " [492, 'sp2'],\n",
       " [493, 'sp2'],\n",
       " [494, 'sp2'],\n",
       " [495, 'sp2'],\n",
       " [497, 'sp2'],\n",
       " [498, 'sp2'],\n",
       " [500, 'sp2'],\n",
       " [502, 'sp2'],\n",
       " [503, 'sp2'],\n",
       " [505, 'sp2'],\n",
       " [506, 'sp2'],\n",
       " [507, 'sp2'],\n",
       " [509, 'sp2'],\n",
       " [511, 'sp2'],\n",
       " [512, 'sp2'],\n",
       " [514, 'sp2'],\n",
       " [515, 'sp2'],\n",
       " [516, 'sp2'],\n",
       " [519, 'sp2'],\n",
       " [520, 'sp3'],\n",
       " [522, 'sp2'],\n",
       " [523, 'sp2'],\n",
       " [524, 'sp2'],\n",
       " [525, 'sp2'],\n",
       " [527, 'sp2'],\n",
       " [528, 'sp2'],\n",
       " [529, 'sp2'],\n",
       " [530, 'sp2'],\n",
       " [532, 'sp2'],\n",
       " [533, 'sp3'],\n",
       " [535, 'sp2'],\n",
       " [536, 'sp2'],\n",
       " [538, 'sp2'],\n",
       " [541, 'sp2'],\n",
       " [542, 'sp2'],\n",
       " [546, 'sp2'],\n",
       " [547, 'sp2'],\n",
       " [548, 'sp2'],\n",
       " [549, 'sp2'],\n",
       " [550, 'sp3'],\n",
       " [551, 'sp2'],\n",
       " [553, 'sp2'],\n",
       " [554, 'sp2'],\n",
       " [555, 'sp2'],\n",
       " [556, 'sp2'],\n",
       " [557, 'sp2'],\n",
       " [558, 'sp2'],\n",
       " [559, 'sp2'],\n",
       " [560, 'sp2'],\n",
       " [563, 'sp2'],\n",
       " [564, 'sp2'],\n",
       " [566, 'sp2'],\n",
       " [567, 'sp2'],\n",
       " [568, 'sp2'],\n",
       " [569, 'sp2'],\n",
       " [570, 'sp2'],\n",
       " [572, 'sp2']]"
      ]
     },
     "execution_count": 31,
     "metadata": {},
     "output_type": "execute_result"
    }
   ],
   "source": [
    "early"
   ]
  },
  {
   "cell_type": "code",
   "execution_count": 32,
   "metadata": {},
   "outputs": [
    {
     "ename": "NameError",
     "evalue": "name 'late' is not defined",
     "output_type": "error",
     "traceback": [
      "\u001b[0;31m---------------------------------------------------------------------------\u001b[0m",
      "\u001b[0;31mNameError\u001b[0m                                 Traceback (most recent call last)",
      "\u001b[0;32m<ipython-input-32-3b60e543063a>\u001b[0m in \u001b[0;36m<module>\u001b[0;34m\u001b[0m\n\u001b[0;32m----> 1\u001b[0;31m \u001b[0mlate\u001b[0m\u001b[0;34m\u001b[0m\u001b[0;34m\u001b[0m\u001b[0m\n\u001b[0m",
      "\u001b[0;31mNameError\u001b[0m: name 'late' is not defined"
     ]
    }
   ],
   "source": [
    "late"
   ]
  },
  {
   "cell_type": "code",
   "execution_count": 57,
   "metadata": {},
   "outputs": [],
   "source": [
    "def get_clusters_num(atoms, min_cluster_size=5):\n",
    "    bond_graph = get_bond_graph(atoms)\n",
    "    cluster_sizes = np.array([len(comp) for comp in nx.connected_components(bond_graph)])\n",
    "    return np.nonzero(cluster_sizes >= min_cluster_size)[0].shape[0]"
   ]
  },
  {
   "cell_type": "code",
   "execution_count": 58,
   "metadata": {},
   "outputs": [
    {
     "data": {
      "text/plain": [
       "16"
      ]
     },
     "execution_count": 58,
     "metadata": {},
     "output_type": "execute_result"
    }
   ],
   "source": [
    "get_clusters_num(Atomse)"
   ]
  },
  {
   "cell_type": "code",
   "execution_count": 64,
   "metadata": {},
   "outputs": [],
   "source": [
    "G = nx.Graph()\n",
    "nx.add_path(G, [0,1,2,5,4,3,0])\n",
    "G.add_edge(1, 4)\n",
    "G.add_edge(4, 7)\n",
    "nx.add_path(G, [3, 6, 7, 8, 5])"
   ]
  },
  {
   "cell_type": "code",
   "execution_count": 70,
   "metadata": {},
   "outputs": [
    {
     "data": {
      "text/plain": [
       "list"
      ]
     },
     "execution_count": 70,
     "metadata": {},
     "output_type": "execute_result"
    }
   ],
   "source": [
    "DiG = G.to_directed()\n",
    "nx.algorithms.cycles.minimum_cycle_basis(G)"
   ]
  },
  {
   "cell_type": "code",
   "execution_count": 73,
   "metadata": {},
   "outputs": [
    {
     "data": {
      "text/plain": [
       "112"
      ]
     },
     "execution_count": 73,
     "metadata": {},
     "output_type": "execute_result"
    }
   ],
   "source": [
    "def get_carbon_cycles(atoms, cycle_length=6):\n",
    "    bond_graph = get_bond_graph(atoms)\n",
    "    cycle_list = []\n",
    "    for cycle in nx.algorithms.cycles.minimum_cycle_basis(bond_graph):\n",
    "        if len(cycle) == cycle_length: \n",
    "            cycle_list.append(cycle)\n",
    "    return cycle_list\n",
    "len(get_carbon_cycles(Atomse))"
   ]
  },
  {
   "cell_type": "code",
   "execution_count": null,
   "metadata": {},
   "outputs": [],
   "source": []
  }
 ],
 "metadata": {
  "kernelspec": {
   "display_name": "Python 3",
   "language": "python",
   "name": "python3"
  },
  "language_info": {
   "codemirror_mode": {
    "name": "ipython",
    "version": 3
   },
   "file_extension": ".py",
   "mimetype": "text/x-python",
   "name": "python",
   "nbconvert_exporter": "python",
   "pygments_lexer": "ipython3",
   "version": "3.6.9"
  }
 },
 "nbformat": 4,
 "nbformat_minor": 2
}
